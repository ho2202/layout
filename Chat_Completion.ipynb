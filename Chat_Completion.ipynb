{
 "cells": [
  {
   "cell_type": "markdown",
   "id": "d0159061-ae5d-49cb-8e0c-24a48087731c",
   "metadata": {},
   "source": [
    "# Prompt Examples\n",
    "\n",
    "- https://platform.openai.com/docs/examples 참조"
   ]
  },
  {
   "cell_type": "code",
   "execution_count": null,
   "id": "989f8b65-992a-4c1c-b196-aa19cfff4e95",
   "metadata": {},
   "outputs": [
    {
     "data": {
      "text/plain": [
       "True"
      ]
     },
     "execution_count": 1,
     "metadata": {},
     "output_type": "execute_result"
    }
   ],
   "source": [
    "# env 파일 로드"
   ]
  },
  {
   "cell_type": "code",
   "execution_count": null,
   "id": "9a83b1e3-b3f3-42f4-a73f-7bc62e3eb87a",
   "metadata": {},
   "outputs": [],
   "source": [
    "# OpenAI 객체 생성"
   ]
  },
  {
   "cell_type": "markdown",
   "id": "ffdcbcad",
   "metadata": {},
   "source": [
    "### 내용 요약"
   ]
  },
  {
   "cell_type": "code",
   "execution_count": null,
   "id": "b7ad1d73",
   "metadata": {},
   "outputs": [
    {
     "name": "stdout",
     "output_type": "stream",
     "text": [
      "* 마흐무드 칼릴은 아이의 탄생 이후 첫 아버지의 날을 놓친 뒤 가족과 재회하였고, 그는 뉴저지에서 있었습니다.  \n",
      "* 그는 가족과 재회하며 이민자들의 권리를 옹호하기 위해 여전히 싸울 것을 다짐했습니다.  \n",
      "* 지원자들에게 감사한 마음을 전하며 팔레스타인과 이민자들을 위한 지속적인 지지를 강조했습니다.  \n"
     ]
    }
   ],
   "source": [
    "\n",
    "\n",
    "text =\"\"\"After missing the birth of his child, his first Father’s Day and spending more than three months away from his family, Mahmoud Khalil has been reunited with his loved ones.\n",
    "The Palestinian activist arrived in Newark, New Jersey, Saturday afternoon, a day after he was released from a Louisiana ICE detention center. \n",
    "He was seen embracing his wife and pushing the stroller of his newborn son after reuniting in a private area of the airport.\n",
    "“Still, the fight is far from over,” Khalil said while thanking his supporters at a news conference. \n",
    "“I continue to advocate for Palestinians, for the immigrants who are left behind in that facility.”\n",
    "\"\"\"\n",
    "\n",
    "role_content=\"\"\"\"\"\"\n",
    "\n",
    "\n"
   ]
  },
  {
   "cell_type": "markdown",
   "id": "fa00e875",
   "metadata": {},
   "source": [
    "### 광고 문구 생성"
   ]
  },
  {
   "cell_type": "code",
   "execution_count": null,
   "id": "4d00cc73",
   "metadata": {},
   "outputs": [
    {
     "name": "stdout",
     "output_type": "stream",
     "text": [
      "1. \"촉촉하게 스며드는 자연의 힘, 맑은나라 알로에수분으로 피부를 감싸주세요.\"  \n",
      "2. \"흡수된 후에도 지속되는 촉촉함, 친환경의 선택, 맑은나라 알로에수분!\"  \n",
      "3. \"자연에서 온 수분, 친환경으로 더하는 사랑. 피부가 행복해지는 알로에수분!\"  \n",
      "4. \"당신의 피부를 위한 친환경의 기적, 알로에수분으로 촉촉함을 가득 채우세요.\"  \n",
      "5. \"촉촉함과 환경을 생각하는 마음, 맑은나라 알로에수분으로 피부에 생명력을!\"  \n"
     ]
    }
   ],
   "source": [
    "text =\"\"\"\n",
    "\"\"\"\n",
    "\n",
    "role_content=\"\"\"\n",
    "\"\"\"\n",
    "\n"
   ]
  },
  {
   "cell_type": "markdown",
   "id": "6e00626d-ca14-411b-898f-856309a98b6d",
   "metadata": {},
   "source": [
    "## 문법 수정"
   ]
  },
  {
   "cell_type": "code",
   "execution_count": null,
   "id": "9e304b90-0d30-4dca-89f4-4d7c46ae346c",
   "metadata": {},
   "outputs": [
    {
     "name": "stdout",
     "output_type": "stream",
     "text": [
      "그녀는 시장에 가지 않았어.\n"
     ]
    }
   ],
   "source": []
  },
  {
   "cell_type": "code",
   "execution_count": null,
   "id": "f09b1e0f-195a-4ae8-bab3-a544c84236c9",
   "metadata": {},
   "outputs": [
    {
     "name": "stdout",
     "output_type": "stream",
     "text": [
      "그녀는 시장에 가지 않았어.\n"
     ]
    }
   ],
   "source": []
  },
  {
   "cell_type": "markdown",
   "id": "54f4415f-60b6-4308-aaf1-9f46dc634445",
   "metadata": {},
   "source": [
    "## 구조화되지 않은 데이터의 구문 분석"
   ]
  },
  {
   "cell_type": "code",
   "execution_count": null,
   "id": "1a90e4b6-10c7-48bc-9da2-e617b32cef18",
   "metadata": {},
   "outputs": [],
   "source": [
    "text=\"\"\"최근 발견된 행성 구크럭스(Goocrux)에서는 많은 과일이 발견됐다. 그곳에서 자라는 네오스키즐이 있는데, 보라색이고 사탕 맛이 납니다.\n",
    "회색 빛이 도는 파란색 과일이고 매우 시큼하며 레몬과 약간 비슷한 로헤클(loheckles)도 있습니다.\n",
    "포유닛은 밝은 녹색을 띠며 단맛보다 풍미가 더 좋습니다. 네온 핑크색 맛과 솜사탕 같은 맛이 나는 루프노바도 많이 있습니다.\n",
    "마지막으로 글로울(glowls)이라는 과일이 있는데, 이 과일은 신맛과 부식성이 있는 매우 신맛과 쓴맛이 나며 옅은 오렌지색을 띠고 있습니다.\n",
    "\"\"\"\n"
   ]
  },
  {
   "cell_type": "code",
   "execution_count": null,
   "id": "8e85a03c-135c-4908-b24e-622a0c408a71",
   "metadata": {},
   "outputs": [
    {
     "name": "stdout",
     "output_type": "stream",
     "text": [
      "아래는 제공된 데이터에 기반하여 구성된 CSV 형식입니다.\n",
      "\n",
      "```csv\n",
      "과일명,색상,맛,기타\n",
      "네오스키즐,보라색,사탕맛,\n",
      "로헤클,회색 빛이 도는 파란색,매우 시큼,레몬과 비슷\n",
      "포유닛,밝은 녹색,단맛보다 풍미가 더 좋음,\n",
      "루프노바,네온 핑크색,솜사탕 같은 맛,\n",
      "글로울,옅은 오렌지색,신맛과 쓴맛,부식성\n",
      "```\n",
      "\n",
      "이 CSV는 각 과일의 이름, 색상, 맛, 기타 특성 정보를 정리한 것입니다.\n"
     ]
    }
   ],
   "source": []
  },
  {
   "cell_type": "markdown",
   "id": "05e0d9c0-12f4-4ed8-aaf8-a704505fcb98",
   "metadata": {},
   "source": [
    "## Keyword 추출 "
   ]
  },
  {
   "cell_type": "code",
   "execution_count": null,
   "id": "fac052fa-6db9-4b98-a995-8fe8eb32ee60",
   "metadata": {},
   "outputs": [],
   "source": [
    "text=\"\"\"\n",
    "블랙 온 블랙 도자기(Black-on-Black ware)는 뉴멕시코 북부의 푸에블로 원주민 도자기 예술가들이 개발한 20세기 및 21세기 도자기 전통입니다.\n",
    "전통적인 환원 소성 블랙웨어는 푸에블로 예술가들에 의해 수세기 동안 만들어졌습니다.\n",
    "지난 세기의 흑색 자기는 표면이 매끄럽고 선택적 버니싱이나 내화 슬립을 적용하여 디자인을 적용한 제품입니다. \n",
    "또 다른 스타일은 디자인을 조각하거나 절개하고 융기된 부분을 선택적으로 연마하는 것입니다.\n",
    "여러 세대에 걸쳐 Kha'po Owingeh와 P'ohwhóge Owingeh 푸에블로의 여러 가족은 여주인 도예가들로부터 전수받은 기술을 사용하여\n",
    "검은 바탕에 검은 도자기를 만들어 왔습니다. 다른 푸에블로 출신의 예술가들도 검정색 바탕에 검정색 도자기를 제작했습니다.\n",
    "몇몇 현대 예술가들은 조상의 도자기를 기리는 작품을 만들었습니다.\n",
    "\"\"\"    "
   ]
  },
  {
   "cell_type": "code",
   "execution_count": 16,
   "id": "6e9c970c-d280-4d5c-a4d8-bf9ab8ffe51a",
   "metadata": {},
   "outputs": [
    {
     "name": "stdout",
     "output_type": "stream",
     "text": [
      "- 블랙 온 블랙 도자기\n",
      "- 뉴멕시코\n",
      "- 푸에블로 원주민\n",
      "- 도자기 예술가\n",
      "- 20세기\n",
      "- 21세기\n",
      "- 전통적인 환원 소성 블랙웨어\n",
      "- 흑색 자\n"
     ]
    }
   ],
   "source": [
    "print(response.choices[0].message.content)"
   ]
  },
  {
   "cell_type": "markdown",
   "id": "23c706ef-9a0c-4fe7-971e-d0d23b9c7e45",
   "metadata": {},
   "source": [
    "## Python 버그 수정 \n",
    "SYSTEM : Python 코드 조각이 제공되며, 귀하의 임무는 그 안의 버그를 찾아 수정하는 것입니다.  \n",
    "USER : \n",
    "```Python\n",
    "    import Random\n",
    "    a = random.randint(1,12)\n",
    "    b = random.randint(1,12)\n",
    "    for i in range(10):\n",
    "        question = \"What is \"+a+\" x \"+b+\"? \"\n",
    "        answer = input(question)\n",
    "        if answer = a*b\n",
    "            print (Well done!)\n",
    "        else:\n",
    "            print(\"No.\")\n",
    "```"
   ]
  },
  {
   "cell_type": "code",
   "execution_count": null,
   "id": "85b6d7d7-83e5-4a1a-b70c-52a7ed01ae74",
   "metadata": {},
   "outputs": [],
   "source": [
    "error_code=\"\"\"\n",
    "            import Random\n",
    "            a = random.randint(1,12)\n",
    "            b = random.randint(1,12)\n",
    "            for i in range(10):\n",
    "                question = \"What is \"+a+\" x \"+b+\"? \"\n",
    "                answer = input(question)\n",
    "                if answer = a*b\n",
    "                    print (Well done!)\n",
    "                else:\n",
    "                    print(\"No.\")\n",
    "      \"\"\""
   ]
  },
  {
   "cell_type": "code",
   "execution_count": null,
   "id": "9ad47733-b511-4f9d-acd9-e618ec019bc8",
   "metadata": {},
   "outputs": [
    {
     "name": "stdout",
     "output_type": "stream",
     "text": [
      "코드에서 몇 가지 오류가 있습니다. 수정된 코드는 다음과 같습니다:\n",
      "\n",
      "1. `Random` 모듈은 대문자가 아닌 소문자 `random`으로 임포트해야 합니다.\n",
      "2. `input` 함수에서 `a`와 `b`는 문자열이어야 하므로 `str()` 함수를 사용하여 변환해야 합니다.\n",
      "3. 조건문에서 `=`는 대입 연산자로, 비교 연산자인 `==`를 사용해야 합니다.\n",
      "4. `print` 문에서 괄호로 문자열을 감싸야 합니다.\n",
      "\n",
      "수정된 코드는 다음과 같습니다:\n",
      "\n",
      "```python\n",
      "import random\n",
      "\n",
      "a = random.randint(1, 12)\n",
      "b = random.randint(1, 12)\n",
      "\n",
      "for i in range(10):\n",
      "    question = \"What is \" + str(a) + \" x \" + str(b) + \"? \"\n",
      "    answer = input(question)\n",
      "    \n",
      "    # 입력된 답변을 정수로 변환\n",
      "    if int(answer) == a * b:\n",
      "        print(\"Well done!\")\n",
      "    else:\n",
      "        print(\"No.\")\n",
      "```\n",
      "\n",
      "이제 코드가 정상적으로 작동할 것입니다.\n"
     ]
    }
   ],
   "source": []
  },
  {
   "cell_type": "markdown",
   "id": "471099c0-0e56-48f8-97d4-ce7460d27184",
   "metadata": {},
   "source": [
    "## Code 설명 "
   ]
  },
  {
   "cell_type": "code",
   "execution_count": 19,
   "id": "011734c9-7f36-4e8c-a625-be8f300a89d3",
   "metadata": {},
   "outputs": [],
   "source": [
    "codes = \"\"\"\n",
    "    class Log:\n",
    "        def __init__(self, path):\n",
    "            dirname = os.path.dirname(path)\n",
    "            os.makedirs(dirname, exist_ok=True)\n",
    "            f = open(path, \"a+\")\n",
    "    \n",
    "            # Check that the file is newline-terminated\n",
    "            size = os.path.getsize(path)\n",
    "            if size > 0:\n",
    "                f.seek(size - 1)\n",
    "                end = f.read(1)\n",
    "                if end != \"\\n\":\n",
    "                    f.write(\"\\n\")\n",
    "            self.f = f\n",
    "            self.path = path\n",
    "    \n",
    "        def log(self, event):\n",
    "            event[\"_event_id\"] = str(uuid.uuid4())\n",
    "            json.dump(event, self.f)\n",
    "            self.f.write(\"\\n\")\n",
    "    \n",
    "        def state(self):\n",
    "            state = {\"complete\": set(), \"last\": None}\n",
    "            for line in open(self.path):\n",
    "                event = json.loads(line)\n",
    "                if event[\"type\"] == \"submit\" and event[\"success\"]:\n",
    "                    state[\"complete\"].add(event[\"id\"])\n",
    "                    state[\"last\"] = event\n",
    "            return state\n",
    "\"\"\""
   ]
  },
  {
   "cell_type": "code",
   "execution_count": null,
   "id": "4b6bbf7e-afcb-4c9e-9b51-12903c2e6b11",
   "metadata": {},
   "outputs": [],
   "source": []
  },
  {
   "cell_type": "code",
   "execution_count": null,
   "id": "02de98df-b0de-44dd-86f0-dfa7b9e8b8b9",
   "metadata": {},
   "outputs": [
    {
     "name": "stdout",
     "output_type": "stream",
     "text": [
      "이 코드는 로그 파일을 관리하는 `Log` 클래스를 정의합니다. \n",
      "\n",
      "- **생성자 (`__init__`)**: 로그 파일의 경로를 받아 해당 디렉토리를 생성하고, 로그 파일을 열어 추가 모드로 준비합니다. 파일의 끝이 줄바꿈으로 끝나는지 확인하고, 그렇지 않으면 줄바꿈 문자를 추가합니다.\n",
      "\n",
      "- **`log` 메서드**: 이벤트를 로그 파일에 기록합니다. 이벤트에 고유한 ID를 추가하고 JSON 형식으로 저장한 후 줄바꿈을 추가합니다.\n",
      "\n",
      "- **`state` 메서드**: 로그 파일을 읽어, 제출 성공한 이벤트의 ID를 모으고 마지막 이벤트 정보를 포함한 상태 객체를 반환합니다.\n",
      "\n",
      "이 클래스는 파일 기반의 로그 시스템을 쉽게 관리할 수 있도록 돕습니다.\n"
     ]
    }
   ],
   "source": []
  },
  {
   "cell_type": "markdown",
   "id": "a1934098-ba94-4cce-a64b-0a46566f67c2",
   "metadata": {},
   "source": [
    "## 감성 분류기"
   ]
  },
  {
   "cell_type": "code",
   "execution_count": null,
   "id": "d9c959ce-c320-4ec9-8412-31152d6363ec",
   "metadata": {},
   "outputs": [],
   "source": []
  },
  {
   "cell_type": "code",
   "execution_count": null,
   "id": "9ceeeec9-dcb0-4dde-8752-73efa1a82163",
   "metadata": {},
   "outputs": [
    {
     "name": "stdout",
     "output_type": "stream",
     "text": [
      "긍정적\n"
     ]
    }
   ],
   "source": []
  },
  {
   "cell_type": "markdown",
   "id": "6d654a82-26f1-4148-9593-5cb956b8c97b",
   "metadata": {},
   "source": [
    "## 냉소적인 채팅 봇 "
   ]
  },
  {
   "cell_type": "code",
   "execution_count": null,
   "id": "1768bb18-9f85-41d0-a389-e72eaecc2024",
   "metadata": {},
   "outputs": [],
   "source": [
    "\n",
    "messages=[\n",
    "  {\n",
    "    \"role\": \"developer\",\n",
    "    \"content\": \"당신은 질문에 마지못해 냉소적인 답변을 해주는 챗봇 꽈배기입니다\"\n",
    "  },\n",
    "  {\n",
    "    \"role\": \"user\",\n",
    "    \"content\": \"1킬로그램은 몇 파운드인가요?\"\n",
    "  },\n",
    "  {\n",
    "    \"role\": \"assistant\",\n",
    "    \"content\": \"이걸 또 물어바요? 1킬로그램은 2.2파운드 입니다. 제발 메모해 두세요.\"\n",
    "  },\n",
    "  {\n",
    "    \"role\": \"user\",\n",
    "    \"content\": \"HTML은 무엇을 의미하나요?\"\n",
    "  },\n",
    "  {\n",
    "    \"role\": \"assistant\",\n",
    "    \"content\": \"Google이 안되나요? Hypertext Markup Language. 앞으로 좀 괜찮은 질문을 하려고 노력하세요.\"\n",
    "  },\n",
    "  {\n",
    "    \"role\": \"user\",\n",
    "    \"content\": \"최초의 비행기는 언제 비행했습니까?\"\n",
    "  },\n",
    "  {\n",
    "    \"role\": \"assistant\",\n",
    "    \"content\": \"1903년 12월 17일, 윌버 라이트(Wilbur Wright)와 오빌 라이트(Orville Wright)가 첫 비행을 했습니다. 그들이 와서 나를 데려갔으면 좋겠네요.\"\n",
    "  },\n",
    "  {\n",
    "    \"role\": \"user\",\n",
    "    \"content\": \"지금 몇 시지?\"\n",
    "  }\n",
    "]"
   ]
  },
  {
   "cell_type": "code",
   "execution_count": null,
   "id": "eb34acad-ac53-46df-8050-1d2892435dbc",
   "metadata": {},
   "outputs": [
    {
     "name": "stdout",
     "output_type": "stream",
     "text": [
      "제가 시간을 알려줄 수 있는 시계는 없어요. 스마트폰이나 컴퓨터를 확인해 보세요. 그게 더 빠를 거예요.\n"
     ]
    }
   ],
   "source": []
  },
  {
   "cell_type": "markdown",
   "id": "ffdecba8-f625-4753-998d-477c2af8ac8a",
   "metadata": {},
   "source": [
    "## 인터뷰 질문들"
   ]
  },
  {
   "cell_type": "code",
   "execution_count": null,
   "id": "7c06cf13-420d-4242-b4b8-999ddafd69a8",
   "metadata": {},
   "outputs": [],
   "source": []
  },
  {
   "cell_type": "code",
   "execution_count": null,
   "id": "4aa2fbfc-01c0-4772-ae20-4bc2a7f25344",
   "metadata": {},
   "outputs": [
    {
     "name": "stdout",
     "output_type": "stream",
     "text": [
      "SF 작가와의 인터뷰를 위한 질문 목록은 다음과 같습니다:\n",
      "\n",
      "1. **영감의 원천**: 당신의 작품에 영감을 주는 요소는 무엇인가요? 특정 사건이나 경험이 작품에 어떻게 반영되었는지 이야기해 주실 수 있나요?\n",
      "\n",
      "2. **세계관 구축**: 당신의 소설 속 세계관을 어떻게 구축하셨나요? 현실과의 연결점이나 독창적인 요소는 무엇인가요?\n",
      "\n",
      "3. **주제와 메시지**: 당신의 작품에서 가장 강조하고 싶은 주제나 메시지는 무엇인가요? 독자에게 어떤 감정을 전달하고 싶으신가요?\n",
      "\n",
      "4. **캐릭터 개발**: 캐릭터를 만드는 과정에서 어떤 접근 방식을 취하시나요? 특정 캐릭터에 대해 특별한 이야기가 있다면 공유해 주실 수 있나요?\n",
      "\n",
      "5. **과학적 사실과 상상력**: SF 장르에서 과학적 사실과 상상력을 어떻게 조화시키고 있나요? 연구와 창작 과정에서의 균형은 어떻게 이루어지나요?\n",
      "\n",
      "6. **독자와의 소통**: 독자와의 소통은 당신의 창작 과정에 어떤 영향을 미치나요? 독자 피드백이 작품에 반영된 사례가 있다면 말씀해 주세요.\n",
      "\n",
      "7. **장르의 변화**: SF 장르가 지난 몇 년 간 어떻게 변화해 왔다고 생각하시나요? 앞으로의 트렌드나 방향성에 대한 의견은 무엇인가요?\n",
      "\n",
      "8. **작가로서의 여정**: 작가로서의 여정을 돌아볼 때, 가장 기억에 남는 순간이나 도전은 무엇이었나요? 앞으로의 목표나 계획에 대해 말씀해 주실 수 있나요?\n",
      "\n",
      "이 질문들은 작가의 창작 과정, 작품의 깊이, 그리고 SF 장르에 대한 통찰을 이끌어내는 데 도움이 될 것입니다.\n"
     ]
    }
   ],
   "source": []
  },
  {
   "cell_type": "markdown",
   "id": "55aee066-e4e5-4e29-894e-8519710a44c5",
   "metadata": {},
   "source": [
    "## 회의록 요약"
   ]
  },
  {
   "cell_type": "code",
   "execution_count": 28,
   "id": "fd249722-e848-4ce9-8e20-84103c525c4d",
   "metadata": {},
   "outputs": [],
   "source": [
    "meeting_minutes = \"\"\"\n",
    "회의 날짜: 2050년 3월 5일\n",
    " 미팅 시간: 오후 2시\n",
    " 위치: 은하계 본부 회의실 3B\n",
    "\n",
    " 참석자:\n",
    " - 캡틴 스타더스트\n",
    " - 퀘이사 박사\n",
    " - 레이디 네뷸라\n",
    " - 초신성 경\n",
    " - 혜성 씨\n",
    "\n",
    " 오후 2시 5분에 캡틴 스타더스트가 회의를 소집했습니다.\n",
    "\n",
    " 1. 새로운 팀원인 Ms. Comet에 대한 소개와 환영 인사\n",
    "\n",
    " 2. Planet Zog에 대한 우리의 최근 임무에 대한 토론\n",
    " - 캡틴 스타더스트: \"전반적으로 성공했지만, Zogians와의 의사소통이 어려웠습니다. 언어 능력을 향상시켜야 합니다.\"\n",
    " - 퀘이사 박사: \"동의합니다. 즉시 Zogian-영어 사전 작업을 시작하겠습니다.\"\n",
    " - Lady Nebula: \"Zogian 음식은 말 그대로 이 세상의 것이 아니었습니다! 우리는 배에서 Zogian 음식의 밤을 갖는 것을 고려해야 합니다.\"\n",
    "\n",
    " 3. 7구역 우주 해적 문제 해결\n",
    " - 초신성 경: \"이 해적들을 처리하려면 더 나은 전략이 필요합니다. 그들은 이번 달에 이미 세 척의 화물선을 약탈했습니다.\"\n",
    " - 스타더스트 선장: \"그 지역의 순찰을 늘리는 것에 대해 스타빔 제독과 이야기하겠습니다.\n",
    " - 퀘이사 박사: \"저는 우리 함선이 해적의 발각을 피하는 데 도움이 될 수 있는 새로운 은폐 기술을 연구하고 있습니다. 프로토타입을 완성하려면 몇 주가 더 필요할 것입니다.\"\n",
    "\n",
    " 4. 연례 은하계 베이크오프 검토\n",
    " - Lady Nebula: \"우리 팀이 대회에서 2위를 했다는 소식을 전해드리게 되어 기쁩니다! 우리 화성 머드 파이가 대박을 쳤어요!\"\n",
    " - 혜성 씨: \"내년에는 1위를 목표로 합시다. 제 생각에는 승자가 될 수 있을 것 같은 주피터 젤로의 비법이 있습니다.\"\n",
    "\n",
    " 5. 다가오는 자선 모금 행사 계획\n",
    " - Captain Stardust: \"Intergalactic Charity Bazaar 부스에 대한 창의적인 아이디어가 필요합니다.\"\n",
    " - Sir Supernova: \"'Dunk the Alien' 게임은 어때요? 외계인 복장을 한 자원봉사자에게 사람들이 물 풍선을 던지게 할 수 있어요.\"\n",
    " - 퀘이사 박사: \"승자에게 상금을 주는 '별 이름을 지어라' 퀴즈 게임을 준비할 수 있어요.\"\n",
    " - Lady Nebula: \"좋은 아이디어입니다, 여러분. 이제 보급품을 모으고 게임을 준비합시다.\"\n",
    "\n",
    " 6. 다가오는 팀 빌딩 수련회\n",
    " - Comet 씨: \"Moon Resort and Spa에서 팀워크를 다지는 휴양지를 제안하고 싶습니다. 최근 임무를 마친 후 유대감을 형성하고 휴식을 취할 수 있는 좋은 기회입니다.\"\n",
    " - 캡틴 스타더스트: \"환상적인 생각이군요. 예산을 확인해 보고 실현할 수 있는지 알아보겠습니다.\"\n",
    "\n",
    " 7. 차기회의 안건\n",
    " - Zogian-English 사전 업데이트 (Dr. Quasar)\n",
    " - 클로킹 기술 진행 보고서(퀘이사 박사)\n",
    " - 7번 구역 순찰 강화 결과(캡틴 스타더스트)\n",
    " - 은하계 자선 바자회 최종 준비(전체)\n",
    "\n",
    " 회의가 오후 3시 15분에 연기되었습니다. 다음 회의는 2050년 3월 19일 오후 2시에 은하계 본부 회의실 3B에서 열릴 예정입니다.\n",
    "\"\"\""
   ]
  },
  {
   "cell_type": "code",
   "execution_count": null,
   "id": "b5fc8f65-0e84-48b9-bbe3-00375b70c048",
   "metadata": {},
   "outputs": [],
   "source": []
  },
  {
   "cell_type": "code",
   "execution_count": null,
   "id": "affce61e-6787-4e68-a663-1b2d12be7242",
   "metadata": {},
   "outputs": [
    {
     "name": "stdout",
     "output_type": "stream",
     "text": [
      "SF 작가와의 인터뷰를 위한 질문 목록은 다음과 같습니다:\n",
      "\n",
      "1. **영감의 원천**: 당신의 작품에 영감을 주는 요소는 무엇인가요? 특정 사건이나 경험이 작품에 어떻게 반영되었는지 이야기해 주실 수 있나요?\n",
      "\n",
      "2. **세계관 구축**: 당신의 소설 속 세계관을 어떻게 구축하셨나요? 현실과의 연결점이나 독창적인 요소는 무엇인가요?\n",
      "\n",
      "3. **주제와 메시지**: 당신의 작품에서 가장 강조하고 싶은 주제나 메시지는 무엇인가요? 독자에게 어떤 감정을 전달하고 싶으신가요?\n",
      "\n",
      "4. **캐릭터 개발**: 캐릭터를 만드는 과정에서 어떤 접근 방식을 취하시나요? 특정 캐릭터에 대해 특별한 이야기가 있다면 공유해 주실 수 있나요?\n",
      "\n",
      "5. **과학적 사실과 상상력**: SF 장르에서 과학적 사실과 상상력을 어떻게 조화시키고 있나요? 연구와 창작 과정에서의 균형은 어떻게 이루어지나요?\n",
      "\n",
      "6. **독자와의 소통**: 독자와의 소통은 당신의 창작 과정에 어떤 영향을 미치나요? 독자 피드백이 작품에 반영된 사례가 있다면 말씀해 주세요.\n",
      "\n",
      "7. **장르의 변화**: SF 장르가 지난 몇 년 간 어떻게 변화해 왔다고 생각하시나요? 앞으로의 트렌드나 방향성에 대한 의견은 무엇인가요?\n",
      "\n",
      "8. **작가로서의 여정**: 작가로서의 여정을 돌아볼 때, 가장 기억에 남는 순간이나 도전은 무엇이었나요? 앞으로의 목표나 계획에 대해 말씀해 주실 수 있나요?\n",
      "\n",
      "이 질문들은 작가의 창작 과정, 작품의 깊이, 그리고 SF 장르에 대한 통찰을 이끌어내는 데 도움이 될 것입니다.\n"
     ]
    }
   ],
   "source": []
  },
  {
   "cell_type": "markdown",
   "id": "c5830ec7-6d73-4724-839c-15f9c4fb005f",
   "metadata": {},
   "source": [
    "## 찬반 토론자"
   ]
  },
  {
   "cell_type": "code",
   "execution_count": null,
   "id": "3a1a1590-465d-434d-95ef-2d2ea3f6d348",
   "metadata": {},
   "outputs": [],
   "source": []
  },
  {
   "cell_type": "code",
   "execution_count": null,
   "id": "ee9db2ae-1ca6-495e-b042-33c62da74b65",
   "metadata": {},
   "outputs": [
    {
     "name": "stdout",
     "output_type": "stream",
     "text": [
      "원격근무와 사무실근무는 각각의 장단점이 있으며, 개인의 환경이나 선호도에 따라 그 효과가 다르게 나타날 수 있습니다. 아래에 각 방식의 장단점을 분석해 보겠습니다.\n",
      "\n",
      "### 원격근무\n",
      "\n",
      "#### 장점\n",
      "1. **유연성**: 근무 시간을 조정할 수 있어 개인적인 일정과 업무를 병행하기 용이함.\n",
      "2. **통근 시간 절약**: 출퇴근에 소요되는 시간을 절약하여 더 많은 시간을 개인적인 활동이나 업무에 사용할 수 있음.\n",
      "3. **작업 환경 조정 가능**: 자신이 편안하게 느끼는 환경에서 일할 수 있어 집중력이 향상될 수 있음.\n",
      "4. **비용 절감**: 교통비, 점심값 등 사무실 근무에 필요한 경비 절감.\n",
      "\n",
      "#### 단점\n",
      "1. **소통의 어려움**: 팀원 간의 즉각적인 의사소통이 어려워질 수 있으며, 이로 인해 협업이 비효율적일 수 있음.\n",
      "2. **업무와 개인 생활의 경계 모호**: 업무 시간이 길어지거나, 개인적인 일이 업무에 영향을 미칠 수 있음.\n",
      "3. **고립감**: 동료와의 대면 상호작용 부족으로 인해 고립감을 느낄 수 있음.\n",
      "4. **자기 관리의 필요성**: 스스로 동기부여를 하고 시간 관리를 해야 하므로, 자기 관리 능력이 중요함.\n",
      "\n",
      "### 사무실근무\n",
      "\n",
      "#### 장점\n",
      "1. **직접적인 소통**: 동료와의 즉각적인 의사소통이 가능해 협업이 원활함.\n",
      "2. **명확한 업무 경계**: 사무실에서의 근무는 업무 시간과 개인 시간을 분리하기 쉬움.\n",
      "3. **팀워크와 유대감**: 동료와의 대면 상호작용을 통해 팀워크를 강화하고 유대감을 형성할 수 있음.\n",
      "4. **시설 및 자원 접근 용이**: 사무실 내에 장비나 자원에 쉽게 접근할 수 있어 업무 효율성이 높아짐.\n",
      "\n",
      "#### 단점\n",
      "1. **통근 시간**: 출퇴근에 소요되는 시간과 비용이 발생함.\n",
      "2. **유연성 부족**: 고정된 근무 시간이 있어 개인적인 일정 조정이 어렵고 스트레스가 증가할 수 있음.\n",
      "3. **사무실 환경의 제약**: 개인의 작업 스타일이나 편안함에 맞지 않는 사무실 환경일 수 있음.\n",
      "4. **업무 집중 방해**: 주변의 소음이나 방해 요소로 인해 집중력이 떨어질 수 있음.\n",
      "\n",
      "### 결론\n",
      "원격근무와 사무실근무는 각기 다른 장단점을 가지고 있으며, 어떤 방식이 더 효과적인지는 개인의 성향, 업무 유형, 팀의 문화 등에 따라 달라질 수 있습니다. 기업이나 팀은 이러한 다양한 요소를 고려하여 최적의 근무 방식을 선택하고, 필요에 따라 혼합형(하이브리드) 근무 방식을 도입하는 것도 좋은 방법입니다.\n"
     ]
    }
   ],
   "source": []
  },
  {
   "cell_type": "markdown",
   "id": "0e064629-07fc-4c86-bcf8-05d1bcdcb6da",
   "metadata": {},
   "source": [
    "## 이모티콘 번역"
   ]
  },
  {
   "cell_type": "code",
   "execution_count": null,
   "id": "e853f14d-436d-4da9-bce2-204f3a557f31",
   "metadata": {},
   "outputs": [],
   "source": []
  },
  {
   "cell_type": "code",
   "execution_count": null,
   "id": "dc850d0e-fbbd-4514-9594-dff865839b0e",
   "metadata": {},
   "outputs": [
    {
     "name": "stdout",
     "output_type": "stream",
     "text": [
      "🤖✨💡🔮\n"
     ]
    }
   ],
   "source": []
  },
  {
   "cell_type": "markdown",
   "id": "84a326de-b772-4d45-b070-b1d76c00c67c",
   "metadata": {},
   "source": [
    "## 제품 이름 생성기"
   ]
  },
  {
   "cell_type": "code",
   "execution_count": null,
   "id": "2a5370bb-d674-4ea8-9770-df0622a0cbe7",
   "metadata": {},
   "outputs": [],
   "source": []
  },
  {
   "cell_type": "code",
   "execution_count": null,
   "id": "93bb69d0-6c9d-4f3c-aec5-a944c71dc5e4",
   "metadata": {},
   "outputs": [
    {
     "name": "stdout",
     "output_type": "stream",
     "text": [
      "곰탕 마스터\n"
     ]
    }
   ],
   "source": []
  },
  {
   "cell_type": "markdown",
   "id": "22cd2c83-3e39-456a-a45d-56ca3fcf3bd5",
   "metadata": {},
   "source": [
    "## 번역"
   ]
  },
  {
   "cell_type": "code",
   "execution_count": null,
   "id": "6e11fee7-150b-43e7-ba53-4458c98c2123",
   "metadata": {},
   "outputs": [],
   "source": []
  },
  {
   "cell_type": "code",
   "execution_count": null,
   "id": "551cc4f5-80d6-4218-bc56-932cf77b0d03",
   "metadata": {},
   "outputs": [
    {
     "name": "stdout",
     "output_type": "stream",
     "text": [
      "내 이름은 제인입니다. 당신의 이름은 무엇인가요?\n"
     ]
    }
   ],
   "source": []
  },
  {
   "cell_type": "markdown",
   "id": "77abc9cc",
   "metadata": {},
   "source": [
    "### youtube 영상 요약"
   ]
  },
  {
   "cell_type": "code",
   "execution_count": null,
   "id": "360ec05a",
   "metadata": {},
   "outputs": [],
   "source": [
    "!pip install youtube-transcript-api"
   ]
  },
  {
   "cell_type": "code",
   "execution_count": null,
   "id": "ac4ded53",
   "metadata": {},
   "outputs": [
    {
     "name": "stdout",
     "output_type": "stream",
     "text": [
      "서기 79년 8월 24일 폼페이 사람들은 여느날과 다름없이 활기찬 하루를 시작했을 것이다. 아본단차 거리의 쇼핑상가는 손님 맞을 준비를 서둘렀고 연인들은 사랑하는 사람과 함께해서 행복했을 것이다. 그런데 오후 한시경 사람들은 깜짝 놀라 배수비오산을 바라보았다. 굉음과 함께 배수비 화산이 폭발한 것이다. 당시 나폴리 안에서이 상황을 지켜보았던 로마의 작가 젊은 플리니우스의 기록이 남아 있어 그날의 자세한 상황을 알 수 takes place and explosion which has the force of atom bomb every couple of seconds absolutely enormous it drives a column way up into the stratos about 30 km above the surface of the earth and from that column 첫폭발이 일어나고 잠시 뒤 거대한 폭발이 일어났다. 폼페이 사람들은 곧 끝날 것이라고 생각했다. 그러나 그것은 대제앙의 시작에 불과했다. 수백만 톤의 화산와 부식물들이 쏟아져 있다. [박수] [음악] 불길하게 바람은 남동 쪽으로 불었다. 페이가 있는 방향 페이 사람들에겐 시간이 없었다. 살길을 찾아헤맸지만 안전한 곳은 없었다. 임산부도 예배는 아니었다. 다친 사람을 돌보던 외과 의사도 끝내 숨을 거두었고 어떤 가족은 방 안에 피신에 있다 질식사로 죽었다. 함께 피신했던 폼페이인도 재앙을 피하지 못했다. 폭풍처럼 도시를 삼킨 것은 화수의 날류였다. 엄청나게 뜨거운 물질로 이루어진 화나류는 산 중턱을 타고 내려오면서 시속 160km의 속도로 사방으로 흩어졌다. 허리 태풍과 같은 속도였다. 비극은 이튿날인 8월 25일 아침에야 끝났다. 불과 하룻밤 사이 폼페이는 4m 높이로 쌓인 화산죄에 묻혀버렸다. 사람도 도시도 지상에서 완전히 사라진 것이다. 지하에서 지상으로 폼페이 봉인이 풀리자 옛 로마 제국의 도시문명이 고스란이 되살아났다. [음악] 발굴에 첫삽을 뜬지 올해로 300여년 초기 발굴은 대체로 무책임하게 이루어졌다. 발굴자들이 주로 보물을 찾는 사람들이기 때문이었다. 그러나 1860년 이러한 발굴 방식은 완전히 종식되었다. 발굴을 체계화시킨 것은 로마 대학의 조세페 피오렐리 교수였다. [음악] 그런데 발굴이 본 궤도에 올랐을 때 폼페의 발굴 최대의 미스터리가 그를 기다리고 있었다. 한도시가 그대로 화산죄에 덮혔는데 몇 구의 화석을 제외하고는 사람의 흔적이 보이지 않는 것이었다. [음악] 그가 발굴한 어느 집에선 식사 중에 봉변을 당한 듯을 담았던 그릇이 식탁에 그대로 놓여 있었다. 그렇다면 주변에 어떤 형태로든 차체의 흔적이 있어야 하지만 아무것도 없었다. 다만 용암과 화산가 식어서 굳어진 발굴 현장의 흑더미 사이에서 이상한 형태의 빈 공간들이 건물마다 남아 있었다. 피오렐리는이 의문의 공간에 주목해 석골를 부었다. 그리고 석고가 굳은 다음 주변에 흙을 긁어내자 빈 공간을 채운 놀라운 형체가 드러났다. 순간 발굴단은 충격에 휩싸였다. [음악] 그것은 폼페이 최후의 날 죽어간 사람들의 모습이었다. Laere dell'eruzione vulcanica aderisce perfettamente ai corpi delle vittime. Questa cenere col passare del tempo si solvidifica e crea una vera e propria forma. Intanto all'interno di questa forma la carne si decompone e quindi rimane una cavità. [음악] 폼페이 사람들의 죽검은 화산제에 묻힌 채 오랜 세월에 걸쳐 굳어졌다. 굳어진 제더미 속에서는 시신이 썩으면서 빈 공간이 생겨났다. 그 빈 공간에 석고 반죽을 채워놓자 홈페이지 사람들의 최후의 순간이 살아난 것이다. [음악] l'esatta forma della persona, dell'animale ucciso dall'eruzione, come quello che possiamo vedere qui a Pompei in tanti e tanti ambiti. 최후의 그날을 증언하는 사체 캐스트에 발굴러 폼페이는 비로소 온전한 본모습을 드러냈다. 뜨거운 화산의 열기를 견디지 못해 입과 코를 막은 채 앉은 자리에서 숨진 마부. 뱃속에 아기를 보호하려고 엎드린 모습의 임산부. 얼마나 고통스러웠는지 몸부림치는 모습 그대로 죽음을 맞은 개.이 이 한쌍의 연인은 서로 손을 맞잡고 재앙으로부터 달아내려 했던 애뜻한 모습 그대로다. 비극적인 죽음도 이들 폼페이 연인을 갈라놓지 못했다. 함께한 마지막 그 순간이 영혼의 시간으로 남은 것이다. 최후의 그날 폼페이는 무엇을 했을까? 최후의 순간을 함께한 그들 연인이 살았던 폼페이는 나폴리만 연안에 자리한 로마 제국의 지방도시였다. 나폴리만 위쪽 평온의 우뚝 솟은이 산이 폼페이를 삼켰던 배수비다. 겉보기엔 온화해 보이지만 지금도 또 언제 터질 모르는 화화산이다. 배수비오산 동남쪽 기습 굳건한 성벽으로 둘러싸인이 도시 유적이 폼이다. 2,년 전 로마 제국으로 들어가는 시간의 통로와도 같은 곳이다. 수많은 사람들이 오가을 곧게 뻗은 도로와 즐 건물들. 당시 사람들이 생활하던 모습 그대로 남아 있어 로마 시대 전성기의 도시문화를 오롯이 만날 수 있다. 옛 로마 제국의 도시 가운데 폼페이처럼 도시 원형이 잘 보존된 곳은 또 없을 것이다. [음악] Pompe has intimacy of detail archa can offer and that's because of the way it was destroyed. 폼페이 번가에 해당하는 아본단차 거리 실제로 이일대에서 상점이 집중적으로 발굴됐다. 이곳은 여러 개의 화덕이 설치된 대리석 조리대가 남아 있어 음식점이었음을 알 수 있다. [음악] 하덕에서 즉석 음식을 조리해서 파는 지금의 패스트푸드점과 같은 곳이었다. 거리를 오가다 배가 출출해지면 폼페이 사람들은 이곳에 들러 금방 조리한 음식을 사 먹었을 것이다. 폼페이 연인이 살았던이 도시에선 집에서 빵을 만들지 않아도 될 정도로 상업이 발달했다. 벽돌로 만든 대형 오븐과 몇돌이 있는 이곳은 꽤 규모가 큰 빵집이었다. 응암으로 만든 몇돌에 구멍이 나 있다. 여기에 손잡이를 끼워 놓고 돌려서 미를 빠은 것이다. [음악] 메뚜레는 노예가 직접 손잡이를 잡고 돌리는 것이 있는가 하면 노세나 말을 부려 돌리는 것도 있었다. [음악] 빵은 붉은 벽돌로 만든 가마형 5분에 구었다. 갓 구원낸 빵은 홈페이지 사람들의 주식으로 팔려 나갔다. 빵집을 주로 이용하는 사람들은 빵 굽는 오분이 없는 서민들이었다. 고소한 빵 냄새가 나기 시작하면 본의 서민들은 한끼 식사를 해결하기 위해 빵집 앞에서 차례를 기다렸을 것이다. 어쩌면 쉐우의 순간 함께한 폼페이 연인은이 빵집의 일꾼과 손님으로 만났을지도 모른다. 석고 퀘스트로 남은 폼페이는 그들이 누구였는지 정확하게 알려주지 않지만 분명이 도시 어딘가에서 살았고 만났고 사랑했을 것이다. [음악] 아본 단차 상가 구역에서 발견된 또 다른 건물. 이곳은 어떤 곳이었을까? 발굴 당시 건물 출입문 옆에 큰 항아리가 놓여 있어 그 단서를 제공했다. 건물앞을 오가던 사람들이 오줌을 놀 수 있도록 놓아둔 항아리였다. 로마 시대엔 세탁을 할 때 오줌을 세제로 사용했기 때문에 세탁소 건물 앞에는 항아리를 놓아둔 것이었다. 이미 그 시대에 폼페이와 같은 로마 제국의 도시에는 오늘날처럼 바쁜 도시을 위한 세탁소가 있었던 것이다. 연인과 함께 석고 퀘스트로 발견된 폼페이 아가씨는 어쩌면이 세탁소집 딸이었을지도 모른다. [음악] 쇼핑 상가는 젊은 연인들에게 좋은 데이트 장소였을 것이다. 첫 데이트에 나선 빵집 총각은 이곳에서 그녀에게 목걸이를 선물하고 프로포즈를 했을 수도 있다. 젊은 연인들을 유혹하는 새로운 상품과 흥정 소리로 폼페이는 우리가 상상하는 것 이상으로 상업이 발달한 도시였다. 아본 단차 거리에 또 다른 흥미로운 상징물이 있다. 마차길에 새겨진 남근 형상이다. 도심 곳곳에서 다양한 남근 형상이 발견된다. 왜 많은 사람들이 오가는 도심에이 같은 남근 형상을 만들어둔 걸까? These has pointed in two directions. One that they are signs for where broth and prostitutes might be found. This seems a little unlikely now because we we know in Roman society that the is good and more likely. 배수비 화산이 폭발하기 전 폼페이는 지중해의 국제무역 도시였다. 바다로 이어지는 성문 박근 무역선들이 다 내리던 한구였다. [음악] 지중해의 해상 무역상들은 인도와 중국까지 나아가 동방에 진귀한 사치품을 수입해 왔고 페이는 동서양을 오가는 국제 무역상들이 반드시 거쳐가는 중계 거점 도시로 눈부시게 발전했다. classici con Alessandria d'Egitto e con l'Orientezato erano all'ordine del giorno e grazie al mare ricchezze da ognive arriva a Pompe으로 폼페이급 부자들도 많았다. 저택의 지붕을 떠치고 있는 12시 기둥들만 봐도 그 자체로 웅장하다. 신비의 저택이라 이름붙여진이 집은 아흥칸짜리 대저택이다. 저택 출입구의 통로를 지나면 아트리움이라 불리는 중앙 홀이 나온다. [음악] 아트리움 주변은 예수역에 방이 둘러싸고 있고 뒤로는 넓은 정원이 펼쳐진다. [음악] 저택의 구조는 로마의 전형적인 주택 양식을 따르고 있다. 저택 내부 장식도 화려하다. 특히 그 실에 대유행한 것이 프레스코화 장식이었다. 젖은 석회벽에 수채 물감으로 그려내는 프레스코아는 부자들이 누리는 최고의 사치였다. 신비의 저택에서 발견된이 프레스코는 디오니소스 추종 의식을 묘사한 연작 벽화로 폼페이 레드라 불리는 진홍색 바탕에 실물 크기의 임무를 대담하게 표현해 놓아 화려함의 극치를 보여준다. [음악] 페이 부자들은 사치와 낭비를 자랑스럽게 여기며 즐겼다. 저택에선 자주 성대한 만찬이 열렸고 연장에는을 이런 카우치가 마련되 있었다. [음악] 부자들은 카우치에 누워 포크와 나이프를 쓰지 않고 손으로 음식을 먹었다. 음식은 다 먹지 않고 남겨서 버리는 것이 당시 부자들의 미덕이었다. [음악] 폼페이 한 저택의 식당 바닥에서 발견된 모자이크 화당. 실제로 먹다 버린 포도 속리와 개다리 등 사치스런운 식사의 흠이 잘 묘사되 있다. 폼페이에서 열린 한 연회를 사실적으로 표현한 또 다른 벽화다. 한 남자가 다른 손님들 바로 옆에서 토하고 있다. 고대 로마 시대의 연회에선 이처럼 구역질하는 손님을 흔히 볼 수 있었다고 한다. 놀랍게도 이들은 계속해서 음식을 먹기 위해 깃털로 자신의 목을 간지려서 먹은 음식을 토해낸 다음 음식을 먹었다고 [음악] has like other empire has a lot of the rich have by far the majority of the wealth and this is seen by they have the largest states outside theity and through their positiony and they are more often are people인이 살았던 이 도시에 빈부 격차는 컸다. 그러나 가난 때문에 굶어 죽는 비극은 없었다. 로마 제국의 도시에선 있을 수 없는 일이었다. 로마 제국의 황제에겐 시민들에게 식량을 안정적으로 공급하는 것이 국토 안보 못지 않은 중요한 정치적 과제였다. 수도 로마에선 황제 이름으로 빵을 무상으로 나눠주는 식량 배급 정책을 실시했고 폼페이 같은 지방 도시에선 부유한 지도층이 그 역할을 대신했다. [음악] giving bread out to people who are much more poorly dressed than himself. I think that this is actually a bread distribution by somebody who is a magistrate, someone who is a rich person in Pompe the reason they do this is so that they can maintain their social position and maintain their position in terms of politics where they make the 봄페이국에 편입된 것은 기원전 90년경. 로마의 아우고스 황제는 무력에 의존하던 제국의 통치 전략을 변화시켰다. 점령지에도 수도 로마와 같은 혜택과 권리를 부여해 민심을 안정시켰다. 그 결과 폼페이는 로마의 축소 같은 도시로 바뀌었다. 홈페이지의 계가에 설치된 수도는 당시 로마의 도시문명 수준을 보여준다. 지금도 사용하는이 수도가 2,년 전 홍폐의 사람들이 식수로 사용하던 공수도라면 믿어지는가? 이미 기원전 1세기를 전후한 그시기 폼페이와 같은 로마 제국의 도시에는이 같은 공공 수도가 도입되었던 것이다. 그것은 로마인들이 개발한 놀라운 공학적 상물이었다. So it was necessary to to create some gallery somewhere and other part kind of bridges and this bridges were very country still working 로마 수도교의 기본은 중력을 이용하는 것이었다. 물을 고산지대의 수원지에서 도시로 운반하려면 일정한 경사도와 수합을 유지하는 것이 관건이었다. 로마인들은 계곡이나 강처럼 지대가 낮은 곳에는 수도교를 놓아이 문제를 해결했다. 이것이 당시 로마의 물을 공급하던 수도교 유적이다. 로마인들은 그들이 개발한 아츠 기술을 이용해 웅장한 규모의 다리를 세우고 그 위에 수로를 놓았다. 이물질이 들어가는 것을 막기 위해 수로 지붕을 덮어 맑은 물이 흐르게 했다.이 이물이 로마 신내 350km에 달하는 수도망을 이루었다. 그것은 문명의 혁신을 이룬 대사건이었다. 폼페이 영인이 살았던이 도시에도 곧 로마식 공공 수도가 설치됐다. 폼페이 거리 곳곳에 설치된 공공 수도는 분수형이었다. 누구나 자유롭게 이용할 수 있도록 온종인 맑은 수돗물을 흐르게 한 것이다. 시민을 위한 공공 인프라를 중시한 로마의 도시 정책은 폼페이에 그대로 이식됐다. 맑은 수돗물이 공급되면서 로마적 가치와 삶의 양식을 따르는데 필요한 요소들도 함께 들어왔다. [음악] is people is and all and romanity assumes are important people의 가장 높은 지대에 기발한 시설이 수도교를 거쳐온 물을 저장하고 통제하던 급수 탱크 시설이다. 여기서 물은 세갈래로 나뉘어 공급됐다. 각각의 스로는 시민들을 위한 공공 수도용과 공중 목욕탕 당뇨 그리고 부유층이 돈을 내고 설치한 개인 주택으로 가는 수로다. 감뭄이 들어 식수가 부족해지면 가장 먼저 부자들의 개인용 수도를 끊었고 다음은 공중목탄. 하지만 시민들이 식수로 사용하는 공공 수도는 마지막까지 흐르게 하는 것이 로마의 수돗물 공급 원칙이었다. [음악] 로마식 공공성은 도시 곳곳에서 빛을 바랬다. 폼 본페이 중심과의이 공중 목욕탕은 세계에서 가장 상태가 좋은 로마식 목욕탕으로 미학과 과학이 어울어진 걸출한 건축물이다. [음악] 웅장한 규모의 목욕탕 내부는 벽화와 조각들로 화려하게 장식되었다. 벽은 대리석으로 만들었으며 바닥은 아름다운 모자에게 그크로 꾸몄다. 둥근 도움식 천장엔 유리창을 달아 햇빛으로 자연 채광을 했다. 천장과 벽면에 있는 겹겹의 결은 수중기 방울이 사람들에게 떨어지지 않도록 만든 건축적 창치다. 물방울이 맺히면이 결을 따라 벽면으로 흘러내리는 것이다. [음악] 로마인들에게 공중 목욕탕은 무엇이었을까? 왜 이처럼 화려하게 만든 것일까? [음악] 로마 시대 공중 목욕탕은 단순히 몸만 씻는 곳이 아니었다. 누구나 공짜로 이용할 수 있는 공공 문화 시설이었다. [음악] 공중 목욕탕에는 식당은 물론 휴계실과 체육관 등 갓지 문화 시설이 구비되 있었다. 목욕탕 이용에는 신분 차별이 없었기 때문에 하루 일과를 마친 폼페이 사람들은 누구든 이곳에 들러 게임도 하고 안마도 받으며 쌓인 피로를 불었다. [음악] 이들에게 공중호 목욕탕은 로마식 문화 생활을 누리는 사교의 장이자 로마인으로서의 정체성을 확보하게 해주는 그런 곳이었다. 로마가 대제국을 건설할 수 있었던 원동력은 폼페이 도시 구조에도 구현되 있다. 중심 간선 도로가 교차하는 지점을 보자. 봄페의 심장부에 해당하는 포럼 구역이다. 포럼은 대리석 기둥으로 둘러싸인 로마식 중앙 대광장으로 로마의 도시문명을 구성하는 핵심 요소다. 이곳엔 대리석으로 마감한 화려한 기둥들이 남아 있어 과거 웅장했을 광장 회량의 모습을 유추해 볼 수 있다. 이런 거대한 기둥들이 줄지어 늘어서 열주식 회량을 이루며 광장을 에워싸고 있는 구조다. 수도 로마의 포럼처럼 이곳 역시 로마식 삶의 바탕을 이루는 공간으로 설계됐다.이 [음악] 이 증높이의 열주식 회란이 중앙의 광장을 감싸듯 에워싸는 직사각형에 다친 구조다. 그러나 광장은 하늘을 향해 열려 있어 독립성과 개방성을 두루 갖추었다. 도시의 주요 시설들은 광장을 정점으로 들어섰다. 배수비 화산이 보이는 광장 북쪽에는 세 명의 로마 신을 모신 카피톨린 신전이 위치한다. [음악] 광장 서쪽에는 로마 시대 법정에 해당하는 바실리카 건물이 있다. [음악] 그 사이에 아폴로 신전이 자리잡고 있다. 그리고 광장 남쪽에는 시, 평유회 등 행정 기관이 자리잡았다. 도시의 주요 공공 시설이 광장을 중심으로 밀집해 있는 것이다. 이처럼 광장은 폼의 시민들이 로마식 삶을 구현하는 공적 활동의 장이었다. Roman Cid notices to find out what was happening in the public life of the city. place of law courts for example but fundamentally it's also the place where people elected and it's place of elections and it's where the city council meets community in the community makes 해마다 3월이면 피 중앙대장은 후끈올랐다. 도시 행정을 책임질 집정관을 시민의 손으로 뽑는 선거가 실지됐기 때문이다. 지정관에 출마한 후보자들은 광장에서 정견을 밟히고 한표를 호소했다. 당시에는 로마 시민권을 가진 10세 이상의 남자에게만 투표권이 있었지만 여성들도 지지하는 후보를 위한 선거 홍보에 나섰을 정도로 그 열기는 뜨거웠다. in Pompe they had elections every year and we can see the traces of the walls publics of the people. 당시 선거 열기를 보여주는 흔적은 곳곳에 남아 있다.이 건물 벽에는 다섯 명의 이름이 적혀 있다. 폼페이 집정관에 출마했던 후보자들의 이름이다. 후보자들은 그들의 공약을 적극적으로 홍보했다. 아무리 유력한 집안 출신이라도 시민들의 인정을 받지 못하면 당선은 불가능했다. 당시 로마 사회에서 가장 중요한 지도자의 덕목은 공동체를 위한 헌신이었다. 그것은 선거의 당락을 좌우하는 것이었고 또 로마를 세계의 제국으로 만들어 준 힘이었다. 석고 퀘스트로 발견된 이들 폼페이도 그의 선거에서 소중한 한표를 행사했을 것이다. society made on later things becing much more private emphasis on public is probably makes the strength of the Roman Empire. [음악] 로마 제국의 도시답게 폼페이는 더 없이 풍요롭고 아름다웠다. 봄이 가고 여름이 오고 운명에 그의 8월이 왔다. [음악] 페이 특산 포도의 수학철인이 계절은 모든 사람들에게 더 많은 기쁨과 즐거움을 안겨 주었다. [음악] 갓은 포도주는 연인들의 가슴을 더욱 달뜨게 했을 것이다. 바로 그밤. 어쩌면 이들 폼페이 언니는 그들 생애에서 가장 달콤한 첫 케이스를 했을지도 모를 일이다. [음악] 그 밤이 그렇게 가고 운명에 그날이 왔다. 사람도 도시도 지상에서 완전히 사라진 것이다. [음악] 본페이 사람들은 최후의 순간을 맞았던 모습으로 발견됐다. 발굴을 담당했던 피오렐르 교수가 찾아낸 그 모습은 충격적이었다. [음악] 지금까지 찾아낸 죽검은 이천여구 달려. [음악] 봄페의 주택의 작은 방에서 죽음을 맞이한 이들은 가족이었을 것이다. 어머니는 죽음이 엄습하는 순간에 어린아이를 꼭 껴안고 있었다. [음악] 골목길에서 엎드린 모습으로 발견된이 남자는 의사였을 것이다. 다친 사람을 치료하기 위해 황급히 수술도구를 챙겨나오다 변을 당한 것으로 보인다. 그는 수술용 칼과 겸자를 지니고 있었다. [음악] 죽어가면서도 서로를 지켜주려 했던 페이 연인의 모습이다. 마지막 그 순간에도 이들 연인은 나중에 함께 결혼식을 올릴 수 있으리란 희망을 버리지 않았을 것이다. 그러나 2,년 전 그들의이 순간은 한 찰라에 영혼의 시간으로 멈추어섰다. [음악] F\n",
      "서기 79년 8월 24일, 폼페이에서 있었던 대재앙에 관한 내용입니다. 이날, 폼페이 주민들은 평범한 하루를 보내고 있었으나, 배수비오 화산의 폭발로 인해 도시와 주민들이 사라지는 비극이 벌어졌습니다. 초기 폭발 후 사람들은 상황이 곧 종료될 것이라 생각했지만, 이는 재앙의 시작에 불과했습니다. \n",
      "\n",
      "• 배수비오 화산의 폭발이 발생, 폼페이를 덮친 재앙의 시작.\n",
      "• 수천 톤의 화산재와 뜨거운 화수가 도시를 휩쓸었고, 사람들은 피신할 곳을 찾지 못함.\n",
      "• 임산부와 외과 의사 포함, 여러 사람이 재앙 중에 숨짐.\n",
      "• 하루 만에 폼페이는 4m의 화산재에 묻혔고, 도시와 모든 것이 사라짐.\n",
      "• 발굴 300여 년 후, 로마 교수 피오렐리가 구조를 체계적으로 조사함.\n",
      "• 석고 캐스트를 이용해 화산재로 덮인 피해자들의 최후 모습을 복원함.\n",
      "• 발굴된 폼페이는 고대 로마 문명의 일면을 보여주는 중요한 유적.\n",
      "• 폼페이의 상업, 문화적 발전, 그리고 근대적 세탁소와 빵집 같은 시설들이 발달.\n",
      "• 공공 목욕탕과 수도시설을 통해 로마 도시 정책과 문화가 반영됨.\n",
      "• 폼페이의 비극적 역사와 고대 로마 사회의 삶의 모습을 통해 인류 문명과 재난에 대한 교훈을 전달.\n"
     ]
    }
   ],
   "source": [
    "# 유튜브 자막 추출\n",
    "from youtube_transcript_api import YouTubeTranscriptApi\n",
    "\n",
    "# OpenAI CEO 연설(7:16)\n",
    "# https://www.youtube.com/watch?v=Pn-W41hC764  \n",
    "\n",
    "# ebs 다큐(38:18)\n",
    "# https://www.youtube.com/watch?v=e8cpV870Ufs\n",
    "\n"
   ]
  },
  {
   "cell_type": "markdown",
   "id": "9d4a8fa5-bca5-4480-8eaa-a8414c847de1",
   "metadata": {},
   "source": [
    "### 임베딩 기반 검색을 사용한 질문 답변 - RAG(Retrieval-Augmented Generation, 검색 증강 생성)"
   ]
  },
  {
   "cell_type": "code",
   "execution_count": null,
   "id": "c92b049c-74c5-4e2e-ae9e-c3df3f193dd7",
   "metadata": {},
   "outputs": [],
   "source": [
    "import requests\n",
    "from bs4 import BeautifulSoup\n",
    "\n",
    "url = \"https://namu.wiki/w/2022%20%EB%B2%A0%EC%9D%B4%EC%A7%95%20%EB%8F%99%EA%B3%84%EC%98%AC%EB%A6%BC%ED%94%BD/%EC%BB%AC%EB%A7%81\"\n",
    "\n",
    "# 페이지 내용 가져오기\n",
    "\n",
    "\n",
    "# 페이지 내용 중에서 필요한 부분 추출 (예시로 본문 전체를 가져옵니다)\n"
   ]
  },
  {
   "cell_type": "code",
   "execution_count": null,
   "id": "153ef2b1-9ba7-4da6-963a-77a52b07212c",
   "metadata": {},
   "outputs": [
    {
     "name": "stdout",
     "output_type": "stream",
     "text": [
      "2022년 동계 올림픽 컬링에서 금메달을 획득한 선수는 다음과 같습니다:\n",
      "\n",
      "- 믹스더블: 이탈리아\n",
      "- 남자부: 스웨덴\n",
      "- 여자부: 영국\n"
     ]
    }
   ],
   "source": [
    "query = f\"\"\"다음 질문에 답하려면 2022년 동계 올림픽에 관한 아래 기사를 사용하세요. 답을 찾을 수 없으면 \"모르겠어요.\"라고 답하세요.\n",
    "\n",
    "Article:\n",
    "\\\"\\\"\\\"\n",
    "{wikipedia_article_on_curling}\n",
    "\\\"\\\"\\\"\n",
    "\n",
    "질문: 2022년 동계 올림픽 컬링 금메달을 획득한 선수는 누구인가요?\"\"\"\n",
    "\n"
   ]
  },
  {
   "cell_type": "code",
   "execution_count": null,
   "id": "3efc2685-bad6-4ce7-8b53-d3842678c57d",
   "metadata": {},
   "outputs": [],
   "source": []
  }
 ],
 "metadata": {
  "kernelspec": {
   "display_name": "Python 3",
   "language": "python",
   "name": "python3"
  },
  "language_info": {
   "codemirror_mode": {
    "name": "ipython",
    "version": 3
   },
   "file_extension": ".py",
   "mimetype": "text/x-python",
   "name": "python",
   "nbconvert_exporter": "python",
   "pygments_lexer": "ipython3",
   "version": "3.13.3"
  }
 },
 "nbformat": 4,
 "nbformat_minor": 5
}
